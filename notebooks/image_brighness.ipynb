{
  "cells": [
    {
      "cell_type": "markdown",
      "metadata": {
        "id": "5T9EIPlloOCi"
      },
      "source": [
        "# Imports"
      ]
    },
    {
      "cell_type": "code",
      "execution_count": 99,
      "metadata": {
        "colab": {
          "base_uri": "https://localhost:8080/"
        },
        "id": "12IGAeYpoPR-",
        "outputId": "a8ea07fd-b4f8-4e13-f3ed-d8d789a25374"
      },
      "outputs": [
        {
          "name": "stdout",
          "output_type": "stream",
          "text": [
            "The autoreload extension is already loaded. To reload it, use:\n",
            "  %reload_ext autoreload\n"
          ]
        }
      ],
      "source": [
        "%load_ext autoreload\n",
        "%autoreload 2\n",
        "\n",
        "import numpy as np\n",
        "import os\n",
        "\n",
        "while not os.getcwd().endswith(\"dynamic-clustering\"):\n",
        "    os.chdir(\"..\")\n",
        "    print(os.getcwd())\n",
        "\n",
        "from scripts.clusterer import CluStream\n",
        "#from scripts.dynamic_clusterer import DynamicClusterer\n",
        "from scripts.dc_v2 import DynamicClusterer\n",
        "from scripts.utils import get_colors, clean_directory\n",
        "\n",
        "from river import drift"
      ]
    },
    {
      "cell_type": "code",
      "execution_count": 100,
      "metadata": {},
      "outputs": [
        {
          "name": "stdout",
          "output_type": "stream",
          "text": [
            "number of colors defined: 20\n"
          ]
        }
      ],
      "source": [
        "colors = get_colors()\n",
        "\n",
        "def import_and_shuffle_csv(file_path):\n",
        "\n",
        "  final_2d_data = np.loadtxt(file_path, delimiter=',')\n",
        "\n",
        "  reference_data = final_2d_data[:1000]\n",
        "  np.random.shuffle(reference_data)\n",
        "\n",
        "  batch1 = final_2d_data[1000:1200]\n",
        "  np.random.shuffle(batch1)\n",
        "\n",
        "  batch2 = final_2d_data[1200:1400]\n",
        "  np.random.shuffle(batch2)\n",
        "\n",
        "  batch3 = final_2d_data[1400:1600]\n",
        "  np.random.shuffle(batch3)\n",
        "\n",
        "  batch4 = final_2d_data[1600:1800]\n",
        "  np.random.shuffle(batch4)\n",
        "\n",
        "  batch5 = final_2d_data[1800:2000]\n",
        "  np.random.shuffle(batch5)\n",
        "\n",
        "  return reference_data, [batch1, batch2, batch3, batch4, batch5]"
      ]
    },
    {
      "cell_type": "code",
      "execution_count": 101,
      "metadata": {
        "id": "sM8PjLXA5QqT"
      },
      "outputs": [],
      "source": [
        "file_path = './data/final_2d_data_brightness.csv'\n",
        "reference_data, batches = import_and_shuffle_csv(file_path)\n",
        "\n",
        "full_prod_data = np.concatenate(batches, axis=0)\n",
        "\n",
        "ids = []"
      ]
    },
    {
      "cell_type": "code",
      "execution_count": 102,
      "metadata": {
        "id": "BGKwWA3Z5UIY"
      },
      "outputs": [],
      "source": [
        "def init_dynamic_clusterer(data=reference_data, threshold=5):\n",
        "  clustream_model = CluStream(\n",
        "      max_micro_clusters=200,\n",
        "      time_window=100,\n",
        "      seed=0,\n",
        "  )\n",
        "  drift_detector = drift.PageHinkley(delta= 0.0005, threshold=threshold)\n",
        "  \n",
        "  dynamic_clusterer = DynamicClusterer(data, clustream_model, drift_detector, colors, x_limits=(-10, 20), y_limits=(0,15), threshold=threshold)\n",
        "  \n",
        "  \n",
        "  return dynamic_clusterer"
      ]
    },
    {
      "cell_type": "code",
      "execution_count": 103,
      "metadata": {
        "colab": {
          "base_uri": "https://localhost:8080/",
          "height": 1000
        },
        "id": "gHjAkzkw5at8",
        "outputId": "ceeb6340-f45a-4cd3-9c98-70d2ecab5733"
      },
      "outputs": [
        {
          "name": "stdout",
          "output_type": "stream",
          "text": [
            "New model created - id: 24727\n",
            "{'id': 0, 'center': [np.float64(5.225658095709169), np.float64(7.0391272247427725)], 'radius': np.float64(1.1964016382572447)}\n",
            "{'id': 1, 'center': [np.float64(3.4061238609179108), np.float64(2.9008011555029456)], 'radius': np.float64(1.107377737563783)}\n",
            "<!> Change detected! Possible input drift at timestamp 11 ----> Apply macroclustering <!>\n",
            "\n"
          ]
        },
        {
          "data": {
            "image/png": "[encoded data removed]",
            "text/plain": [
              "<Figure size 640x480 with 1 Axes>"
            ]
          },
          "metadata": {},
          "output_type": "display_data"
        },
        {
          "name": "stdout",
          "output_type": "stream",
          "text": [
            "{0: [0, 1], 1: [0, 1]}\n",
            "(!) [0] are merged in [np.float64(5.302836935929575), np.float64(6.941772364606763)]\n",
            "(!) [1] are merged in [np.float64(5.302836935929575), np.float64(6.941772364606763)]\n"
          ]
        },
        {
          "ename": "TypeError",
          "evalue": "'int' object is not subscriptable",
          "output_type": "error",
          "traceback": [
            "\u001b[1;31m---------------------------------------------------------------------------\u001b[0m",
            "\u001b[1;31mTypeError\u001b[0m                                 Traceback (most recent call last)",
            "Cell \u001b[1;32mIn[103], line 7\u001b[0m\n\u001b[0;32m      4\u001b[0m ids\u001b[38;5;241m.\u001b[39mappend(\u001b[38;5;28mid\u001b[39m)\n\u001b[0;32m      6\u001b[0m clustream\u001b[38;5;241m.\u001b[39mreceive_prod(full_prod_data)\n\u001b[1;32m----> 7\u001b[0m \u001b[43mclustream\u001b[49m\u001b[38;5;241;43m.\u001b[39;49m\u001b[43mfit_prod_data\u001b[49m\u001b[43m(\u001b[49m\u001b[43mplot_img\u001b[49m\u001b[38;5;241;43m=\u001b[39;49m\u001b[38;5;28;43;01mTrue\u001b[39;49;00m\u001b[43m,\u001b[49m\u001b[43m \u001b[49m\u001b[43mprint_graph\u001b[49m\u001b[38;5;241;43m=\u001b[39;49m\u001b[38;5;28;43;01mTrue\u001b[39;49;00m\u001b[43m,\u001b[49m\u001b[43m \u001b[49m\u001b[43mmacroclustering_at_end\u001b[49m\u001b[38;5;241;43m=\u001b[39;49m\u001b[38;5;28;43;01mTrue\u001b[39;49;00m\u001b[43m)\u001b[49m\n\u001b[0;32m      9\u001b[0m \u001b[38;5;66;03m#clustream.draw_snapshots()\u001b[39;00m\n\u001b[0;32m     10\u001b[0m clustream\u001b[38;5;241m.\u001b[39mdraw_gif(title\u001b[38;5;241m=\u001b[39m\u001b[38;5;124m\"\u001b[39m\u001b[38;5;124mbrightness\u001b[39m\u001b[38;5;124m\"\u001b[39m)\n",
            "File \u001b[1;32mc:\\Users\\manse\\OneDrive\\Desktop\\dynamic-clustering\\scripts\\dc_v2.py:120\u001b[0m, in \u001b[0;36mDynamicClusterer.fit_prod_data\u001b[1;34m(self, print_statistics, print_results, print_graph, plot_img, macroclustering_at_end)\u001b[0m\n\u001b[0;32m    118\u001b[0m   \u001b[38;5;28;01mif\u001b[39;00m \u001b[38;5;28mself\u001b[39m\u001b[38;5;241m.\u001b[39mdrift_detector\u001b[38;5;241m.\u001b[39mdrift_detected:\n\u001b[0;32m    119\u001b[0m     \u001b[38;5;28mprint\u001b[39m(\u001b[38;5;124mf\u001b[39m\u001b[38;5;124m\"\u001b[39m\u001b[38;5;124m<!> Change detected! Possible input drift at timestamp \u001b[39m\u001b[38;5;132;01m{\u001b[39;00m\u001b[38;5;28mself\u001b[39m\u001b[38;5;241m.\u001b[39mtimestamp\u001b[38;5;132;01m}\u001b[39;00m\u001b[38;5;124m ----> Apply macroclustering <!>\u001b[39m\u001b[38;5;124m\"\u001b[39m)\n\u001b[1;32m--> 120\u001b[0m     \u001b[38;5;28;43mself\u001b[39;49m\u001b[38;5;241;43m.\u001b[39;49m\u001b[43mtrigger_macroclustering\u001b[49m\u001b[43m(\u001b[49m\u001b[43mprint_statistics\u001b[49m\u001b[38;5;241;43m=\u001b[39;49m\u001b[43mprint_statistics\u001b[49m\u001b[43m,\u001b[49m\u001b[43m \u001b[49m\u001b[43mprint_results\u001b[49m\u001b[38;5;241;43m=\u001b[39;49m\u001b[43mprint_results\u001b[49m\u001b[43m,\u001b[49m\u001b[43m \u001b[49m\u001b[43mprint_graph\u001b[49m\u001b[38;5;241;43m=\u001b[39;49m\u001b[43mprint_graph\u001b[49m\u001b[43m,\u001b[49m\u001b[43m \u001b[49m\u001b[43mplot_img\u001b[49m\u001b[38;5;241;43m=\u001b[39;49m\u001b[43mplot_img\u001b[49m\u001b[43m)\u001b[49m\n\u001b[0;32m    122\u001b[0m \u001b[38;5;66;03m# Apply macroclustering at the end of the batch\u001b[39;00m\n\u001b[0;32m    123\u001b[0m \u001b[38;5;66;03m# Note that we do not save the the new macroclustering now\u001b[39;00m\n\u001b[0;32m    124\u001b[0m \u001b[38;5;28;01mif\u001b[39;00m macroclustering_at_end:\n",
            "File \u001b[1;32mc:\\Users\\manse\\OneDrive\\Desktop\\dynamic-clustering\\scripts\\dc_v2.py:211\u001b[0m, in \u001b[0;36mDynamicClusterer.trigger_macroclustering\u001b[1;34m(self, print_statistics, print_results, print_graph, plot_img)\u001b[0m\n\u001b[0;32m    209\u001b[0m               current_ids_list\u001b[38;5;241m.\u001b[39mappend(new_id)\n\u001b[0;32m    210\u001b[0m               \u001b[38;5;28mself\u001b[39m\u001b[38;5;241m.\u001b[39mmacroclusters\u001b[38;5;241m.\u001b[39mappend({\u001b[38;5;124m'\u001b[39m\u001b[38;5;124mid\u001b[39m\u001b[38;5;124m'\u001b[39m:new_id, \u001b[38;5;124m'\u001b[39m\u001b[38;5;124mcenter\u001b[39m\u001b[38;5;124m'\u001b[39m:new_cluster[\u001b[38;5;124m'\u001b[39m\u001b[38;5;124mcenter\u001b[39m\u001b[38;5;124m'\u001b[39m], \u001b[38;5;124m'\u001b[39m\u001b[38;5;124mradius\u001b[39m\u001b[38;5;124m'\u001b[39m:new_cluster[\u001b[38;5;124m'\u001b[39m\u001b[38;5;124mradius\u001b[39m\u001b[38;5;124m'\u001b[39m]})\n\u001b[1;32m--> 211\u001b[0m               \u001b[38;5;28mprint\u001b[39m(\u001b[38;5;124mf\u001b[39m\u001b[38;5;124m'\u001b[39m\u001b[38;5;124m(!) \u001b[39m\u001b[38;5;132;01m{\u001b[39;00m\u001b[43m[\u001b[49m\u001b[43mcluster\u001b[49m\u001b[43m[\u001b[49m\u001b[38;5;124;43m\"\u001b[39;49m\u001b[38;5;124;43mcenter\u001b[39;49m\u001b[38;5;124;43m\"\u001b[39;49m\u001b[43m]\u001b[49m\u001b[38;5;250;43m \u001b[39;49m\u001b[38;5;28;43;01mfor\u001b[39;49;00m\u001b[38;5;250;43m \u001b[39;49m\u001b[43mcluster\u001b[49m\u001b[38;5;250;43m \u001b[39;49m\u001b[38;5;129;43;01min\u001b[39;49;00m\u001b[38;5;250;43m \u001b[39;49m\u001b[43mfrom_clusters\u001b[49m\u001b[43m]\u001b[49m\u001b[38;5;132;01m}\u001b[39;00m\u001b[38;5;124m are merged in another cluster: \u001b[39m\u001b[38;5;132;01m{\u001b[39;00mnew_cluster[\u001b[38;5;124m\"\u001b[39m\u001b[38;5;124mcenter\u001b[39m\u001b[38;5;124m\"\u001b[39m]\u001b[38;5;132;01m}\u001b[39;00m\u001b[38;5;124m'\u001b[39m)\n\u001b[0;32m    217\u001b[0m \u001b[38;5;66;03m# Append appeared clusters to actual result\u001b[39;00m\n\u001b[0;32m    218\u001b[0m \u001b[38;5;28;01mfor\u001b[39;00m cluster \u001b[38;5;129;01min\u001b[39;00m appeared_clusters:\n",
            "File \u001b[1;32mc:\\Users\\manse\\OneDrive\\Desktop\\dynamic-clustering\\scripts\\dc_v2.py:211\u001b[0m, in \u001b[0;36m<listcomp>\u001b[1;34m(.0)\u001b[0m\n\u001b[0;32m    209\u001b[0m               current_ids_list\u001b[38;5;241m.\u001b[39mappend(new_id)\n\u001b[0;32m    210\u001b[0m               \u001b[38;5;28mself\u001b[39m\u001b[38;5;241m.\u001b[39mmacroclusters\u001b[38;5;241m.\u001b[39mappend({\u001b[38;5;124m'\u001b[39m\u001b[38;5;124mid\u001b[39m\u001b[38;5;124m'\u001b[39m:new_id, \u001b[38;5;124m'\u001b[39m\u001b[38;5;124mcenter\u001b[39m\u001b[38;5;124m'\u001b[39m:new_cluster[\u001b[38;5;124m'\u001b[39m\u001b[38;5;124mcenter\u001b[39m\u001b[38;5;124m'\u001b[39m], \u001b[38;5;124m'\u001b[39m\u001b[38;5;124mradius\u001b[39m\u001b[38;5;124m'\u001b[39m:new_cluster[\u001b[38;5;124m'\u001b[39m\u001b[38;5;124mradius\u001b[39m\u001b[38;5;124m'\u001b[39m]})\n\u001b[1;32m--> 211\u001b[0m               \u001b[38;5;28mprint\u001b[39m(\u001b[38;5;124mf\u001b[39m\u001b[38;5;124m'\u001b[39m\u001b[38;5;124m(!) \u001b[39m\u001b[38;5;132;01m{\u001b[39;00m[\u001b[43mcluster\u001b[49m\u001b[43m[\u001b[49m\u001b[38;5;124;43m\"\u001b[39;49m\u001b[38;5;124;43mcenter\u001b[39;49m\u001b[38;5;124;43m\"\u001b[39;49m\u001b[43m]\u001b[49m\u001b[38;5;250m \u001b[39m\u001b[38;5;28;01mfor\u001b[39;00m\u001b[38;5;250m \u001b[39mcluster\u001b[38;5;250m \u001b[39m\u001b[38;5;129;01min\u001b[39;00m\u001b[38;5;250m \u001b[39mfrom_clusters]\u001b[38;5;132;01m}\u001b[39;00m\u001b[38;5;124m are merged in another cluster: \u001b[39m\u001b[38;5;132;01m{\u001b[39;00mnew_cluster[\u001b[38;5;124m\"\u001b[39m\u001b[38;5;124mcenter\u001b[39m\u001b[38;5;124m\"\u001b[39m]\u001b[38;5;132;01m}\u001b[39;00m\u001b[38;5;124m'\u001b[39m)\n\u001b[0;32m    217\u001b[0m \u001b[38;5;66;03m# Append appeared clusters to actual result\u001b[39;00m\n\u001b[0;32m    218\u001b[0m \u001b[38;5;28;01mfor\u001b[39;00m cluster \u001b[38;5;129;01min\u001b[39;00m appeared_clusters:\n",
            "\u001b[1;31mTypeError\u001b[0m: 'int' object is not subscriptable"
          ]
        }
      ],
      "source": [
        "clustream = init_dynamic_clusterer()\n",
        "\n",
        "id = clustream.get_id()\n",
        "ids.append(id)\n",
        "\n",
        "clustream.receive_prod(full_prod_data)\n",
        "clustream.fit_prod_data(plot_img=True, print_graph=True, macroclustering_at_end=True)\n",
        "\n",
        "#clustream.draw_snapshots()\n",
        "clustream.draw_gif(title=\"brightness\")"
      ]
    },
    {
      "cell_type": "code",
      "execution_count": null,
      "metadata": {},
      "outputs": [
        {
          "name": "stdout",
          "output_type": "stream",
          "text": [
            "Directory './plots/96702' and its contents removed successfully.\n",
            "Deleted 96702\n"
          ]
        }
      ],
      "source": [
        "# Clean directory\n",
        "\n",
        "for id in ids:\n",
        "    ids.remove(id)\n",
        "    clean_directory(f\"./plots/{id}\")\n",
        "    print(f\"Deleted {id}\")\n"
      ]
    },
    {
      "cell_type": "code",
      "execution_count": null,
      "metadata": {},
      "outputs": [],
      "source": []
    }
  ],
  "metadata": {
    "colab": {
      "collapsed_sections": [
        "P-LtyPODAhFj",
        "l4rYX6N3oSTk",
        "d5XcsxINJmxV"
      ],
      "provenance": []
    },
    "kernelspec": {
      "display_name": "venv",
      "language": "python",
      "name": "python3"
    },
    "language_info": {
      "codemirror_mode": {
        "name": "ipython",
        "version": 3
      },
      "file_extension": ".py",
      "mimetype": "text/x-python",
      "name": "python",
      "nbconvert_exporter": "python",
      "pygments_lexer": "ipython3",
      "version": "3.11.11"
    }
  },
  "nbformat": 4,
  "nbformat_minor": 0
}
